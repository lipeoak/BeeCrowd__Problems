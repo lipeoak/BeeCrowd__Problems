{
  "nbformat": 4,
  "nbformat_minor": 0,
  "metadata": {
    "colab": {
      "provenance": [],
      "authorship_tag": "ABX9TyMGHUOsxeYsakX0NE2sgfu3",
      "include_colab_link": true
    },
    "kernelspec": {
      "name": "python3",
      "display_name": "Python 3"
    },
    "language_info": {
      "name": "python"
    }
  },
  "cells": [
    {
      "cell_type": "markdown",
      "metadata": {
        "id": "view-in-github",
        "colab_type": "text"
      },
      "source": [
        "<a href=\"https://colab.research.google.com/github/lipeoak/BeeCrowd__Problems/blob/main/beecrowd_exercises.ipynb\" target=\"_parent\"><img src=\"https://colab.research.google.com/assets/colab-badge.svg\" alt=\"Open In Colab\"/></a>"
      ]
    },
    {
      "cell_type": "markdown",
      "source": [
        "\n",
        "\n",
        "# **Exercises approved by the testing program of BeeCrowd**\n",
        "#**In case any of the scripts are not presented in github, feel free to open it directly on google colab notebook**\n",
        "\n",
        "#**Link:** https://colab.research.google.com/drive/1PVlQslHzVn_eV5wvbgcbd8-wZdfKrxBX#scrollTo=7TkvgVtwWE-4\n",
        "\n",
        "#**My LinkedIn Profile:** https://www.linkedin.com/in/felipemarcolinocarvalhocosta/\n",
        "\n"
      ],
      "metadata": {
        "id": "TrwYyiTbKI1t"
      }
    },
    {
      "cell_type": "markdown",
      "source": [
        "#Begginer"
      ],
      "metadata": {
        "id": "_JMN7EzKit9i"
      }
    },
    {
      "cell_type": "markdown",
      "source": [
        "#####BEE 1010 - Simple Calculate\n"
      ],
      "metadata": {
        "id": "CyO0OQFjlukc"
      }
    },
    {
      "cell_type": "markdown",
      "source": [
        "In this problem, the task is to read a code of a product 1, the number of units of product 1, the price for one unit of product 1, the code of a product 2, the number of units of product 2 and the price for one unit of product 2. After this, calculate and show the amount to be paid.\n",
        "\n",
        "**Input**\n",
        "The input file contains two lines of data. In each line there will be 3 values: two integers and a floating value with 2 digits after the decimal point.\n",
        "\n",
        "**Output**\n",
        "The output file must be a message like the following example where \"Valor a pagar\" means Value to Pay. Remember the space after \":\" and after \"R$\" symbol. The value must be presented with 2 digits after the point.\n",
        "\n",
        "|Input Samples|Output Samples|\n",
        "|-------------|--------------|\n",
        "|12 1 5.30|VALOR A PAGAR R\\$ 15.50|\n",
        "|16 2 5.20||\n",
        "|||\n",
        "|13 2 15.30|VALOR A PAGAR R\\$ 51.40|\n",
        "|161 4 5.20||\n",
        "|||\n",
        "|1 1 15.10|VALOR A PAGAR R\\$ 30.20|\n",
        "|2 1 15.10||"
      ],
      "metadata": {
        "id": "lyZ99y2UkgED"
      }
    },
    {
      "cell_type": "code",
      "execution_count": null,
      "metadata": {
        "colab": {
          "base_uri": "https://localhost:8080/"
        },
        "id": "9k1qaoUiid8V",
        "outputId": "74db978d-1164-4848-bc06-4dbd4f5f849d"
      },
      "outputs": [
        {
          "output_type": "stream",
          "name": "stdout",
          "text": [
            "1 1 15.10\n",
            "2 1 15.10\n",
            "VALOR A PAGAR: R$ 30.20\n"
          ]
        }
      ],
      "source": [
        "product_1 = input().split()\n",
        "product_1[0] = int(product_1[0])\n",
        "product_1[1] = int(product_1[1])\n",
        "product_1[2] = float(product_1[2])\n",
        "\n",
        "product_2 = input().split()\n",
        "product_2[0] = int(product_2[0])\n",
        "product_2[1] = int(product_2[1])\n",
        "product_2[2] = float(product_2[2])\n",
        "\n",
        "total = (product_1[1]*product_1[2])+(product_2[1]*product_2[2])\n",
        "print(f'VALOR A PAGAR: R$ {total:.2f}')"
      ]
    },
    {
      "cell_type": "markdown",
      "source": [
        "#####BEE 1014 - Consumption"
      ],
      "metadata": {
        "id": "niZtJR65pgEG"
      }
    },
    {
      "cell_type": "markdown",
      "source": [
        "Calculate a car's average consumption being provided the total distance traveled (in Km) and the spent fuel total (in liters).\n",
        "\n",
        "**Input**\n",
        "The input file contains two values: one integer value X representing the total distance (in Km) and the second one is a floating point number Y  representing the spent fuel total, with a digit after the decimal point.\n",
        "\n",
        "**Output**\n",
        "Present a value that represents the average consumption of a car with 3 digits after the decimal point, followed by the message \"km/l\".\n",
        "\n",
        "|Input Sample|Output Sample|\n",
        "|-|-|\n",
        "|500|14.286 km/l|\n",
        "|35.0||\n",
        "|||\n",
        "|2254|18.119 km/l|\n",
        "|124.4||\n",
        "|||\n",
        "|4554|9.802 km/l|\n",
        "|464.6||\n",
        "\n"
      ],
      "metadata": {
        "id": "rISBKbHspiqO"
      }
    },
    {
      "cell_type": "code",
      "source": [
        "distance = int(input())\n",
        "fuel_spent = float(input())\n",
        "consumption = (distance/fuel_spent)\n",
        "\n",
        "print(f'{consumption:.3f} km/l')"
      ],
      "metadata": {
        "colab": {
          "base_uri": "https://localhost:8080/"
        },
        "id": "mWW-wOy2pkhW",
        "outputId": "8679ee9d-2656-423b-dcb3-e135cab9c0d7"
      },
      "execution_count": null,
      "outputs": [
        {
          "output_type": "stream",
          "name": "stdout",
          "text": [
            "2254\n",
            "124.4\n",
            "18.119 km/l\n"
          ]
        }
      ]
    },
    {
      "cell_type": "markdown",
      "source": [
        "#####BEE 1015 - Distance Between Two Points"
      ],
      "metadata": {
        "id": "s9PZrkGdpk8e"
      }
    },
    {
      "cell_type": "markdown",
      "source": [
        "Read the four values corresponding to the x and y axes of two points in the plane, p1 (x1, y1) and p2 (x2, y2) and calculate the distance between them, showing four decimal places, according to the formula:\n",
        "\n",
        "Distance = $$ \\sqrt{(x_2 - x_1)^2 + (y_2 - y_1)^2} $$\n",
        "\n",
        "**Input**\n",
        "The input file contains two lines of data. The first one contains two double values: x1 y1 and the second one also contains two double values with one digit after the decimal point: x2 y2.\n",
        "\n",
        "**Output**\n",
        "Calculate and print the distance value using the provided formula, with 4 decimal places.\n",
        "\n",
        "|Input Sample|Output Sample|\n",
        "|-|-|\n",
        "|1.0 7.0|4.4721|\n",
        "|5.0 9.0||\n",
        "|||\n",
        "|-2.5 0.4|16.1484|\n",
        "|12.1 7.3||\n",
        "|||\n",
        "|2.5 -0.4|16.4575|\n",
        "|-12.2 7.0||\n"
      ],
      "metadata": {
        "id": "KYxtyPUQpnN1"
      }
    },
    {
      "cell_type": "code",
      "source": [
        "point_1 = input().split()\n",
        "point_2 = input().split()\n",
        "point_1 = [float(point) for point in point_1]\n",
        "point_2 = [float(point) for point in point_2]\n",
        "\n",
        "distance = (((point_1[0]-point_2[0])**2)+((point_1[1]-point_2[1]))**2)**(1/2)\n",
        "\n",
        "print(f'{distance:.4f}')"
      ],
      "metadata": {
        "colab": {
          "base_uri": "https://localhost:8080/"
        },
        "id": "1-kZYpqv1vC9",
        "outputId": "647296b9-1e02-4d6f-abf9-5e7b998d1e05"
      },
      "execution_count": null,
      "outputs": [
        {
          "output_type": "stream",
          "name": "stdout",
          "text": [
            "2.5 -0.4\n",
            "-12.2 7.0\n",
            "16.4575\n"
          ]
        }
      ]
    },
    {
      "cell_type": "markdown",
      "source": [
        "#####BEE 1016 -\tDistance\n"
      ],
      "metadata": {
        "id": "ARV_t0A7rpGf"
      }
    },
    {
      "cell_type": "markdown",
      "source": [
        "Two cars (X and Y) leave in the same direction. The car X leaves with a constant speed of 60 km/h and the car Y leaves with a constant speed of 90 km / h.\n",
        "\n",
        "In one hour (60 minutes) the car Y can get a distance of 30 kilometers from the X car, in other words, it can get away one kilometer for each 2 minutes.\n",
        "\n",
        "Read the distance (in km) and calculate how long it takes (in minutes) for the car Y to take this distance in relation to the other car.\n",
        "\n",
        "**Input**\n",
        "The input file contains 1 integer value.\n",
        "\n",
        "**Output**\n",
        "Print the necessary time followed by the message \"minutos\" that means minutes in Portuguese.\n",
        "\n",
        "|Input Sample|Output Sample|\n",
        "|-|-|\n",
        "|30|60 minutos|\n",
        "|110|220 minutos|\n",
        "|7|14 minutos|"
      ],
      "metadata": {
        "id": "ZqPrT3xCrtWv"
      }
    },
    {
      "cell_type": "code",
      "source": [
        "distance = int(input())\n",
        "time = distance*2\n",
        "print(f'{time} minutos')"
      ],
      "metadata": {
        "colab": {
          "base_uri": "https://localhost:8080/"
        },
        "id": "eqKGLLxy6b64",
        "outputId": "ea7f727d-6831-4d17-e777-e8a50b87107a"
      },
      "execution_count": null,
      "outputs": [
        {
          "output_type": "stream",
          "name": "stdout",
          "text": [
            "7\n",
            "14 minutos\n"
          ]
        }
      ]
    },
    {
      "cell_type": "markdown",
      "source": [
        "#####BEE 1017 - Fuel Spent"
      ],
      "metadata": {
        "id": "9yh1o9vF7yAZ"
      }
    },
    {
      "cell_type": "markdown",
      "source": [
        "Little John wants to calculate and show the amount of spent fuel liters on a trip, using a car that does 12 Km/L. For this, he would like you to help him through a simple program. To perform the calculation, you have to read spent time (in hours) and the same average speed (km/h). In this way, you can get distance and then, calculate how many liters would be needed. Show the value with three decimal places after the point.\n",
        "\n",
        "**Input**\n",
        "The input file contains two integers. The first one is the spent time in the trip (in hours). The second one is the average speed during the trip (in Km/h).\n",
        "\n",
        "**Output**\n",
        "Print how many liters would be needed to do this trip, with three digits after the decimal point.\n",
        "\n",
        "|Input Sample|Output Sample|\n",
        "|-|-|\n",
        "|10|70.833|\n",
        "|85||\n",
        "|||\n",
        "|2|15.333|\n",
        "|92||\n",
        "|||\n",
        "|22|122.833|\n",
        "|67||"
      ],
      "metadata": {
        "id": "cqyHytB270x5"
      }
    },
    {
      "cell_type": "code",
      "source": [
        "time = int(input()) #h\n",
        "avg_speed = int(input()) #km/h\n",
        "CAR_EFFICIENCY = 12 #km/l\n",
        "consumption = time*avg_speed/CAR_EFFICIENCY\n",
        "\n",
        "print(f'{consumption:.3f}')\n",
        "\n",
        "\n"
      ],
      "metadata": {
        "colab": {
          "base_uri": "https://localhost:8080/"
        },
        "id": "-S7NhQyy8GzJ",
        "outputId": "db3e3f22-5d6b-4a2c-8d6b-69e6d8d8b2ec"
      },
      "execution_count": null,
      "outputs": [
        {
          "output_type": "stream",
          "name": "stdout",
          "text": [
            "10\n",
            "85\n",
            "70.833\n"
          ]
        }
      ]
    },
    {
      "cell_type": "markdown",
      "source": [
        "#####BEE 1018 - Banknotes"
      ],
      "metadata": {
        "id": "VoLAvgtj-2oz"
      }
    },
    {
      "cell_type": "markdown",
      "source": [
        "In this problem you have to read an integer value and calculate the smallest possible number of banknotes in which the value may be decomposed. The possible banknotes are 100, 50, 20, 10, 5, 2 and 1. Print the read value and the list of banknotes.\n",
        "\n",
        "Input\n",
        "The input file contains an integer value N (0 < N < 1000000).\n",
        "\n",
        "Output\n",
        "Print the read number and the minimum quantity of each necessary banknotes in Portuguese language, as the given example. Do not forget to print the end of line after each line, otherwise you will receive “Presentation Error”.\n",
        "\n",
        "|Input Sample|Output Sample|\n",
        "|-|-|\n",
        "|576|576|\n",
        "||5 nota(s) de R\\$ 100.00|\n",
        "||1 nota(s) de R\\$ 50.00|\n",
        "||1 nota(s) de R\\$ 20.00|\n",
        "||0 nota(s) de R\\$ 10.00|\n",
        "||1 nota(s) de R\\$ 5.00|\n",
        "||0 nota(s) de R\\$ 2.00|\n",
        "||1 nota(s) de R\\$ 1.00|\n"
      ],
      "metadata": {
        "id": "sVCQhsxK--5z"
      }
    },
    {
      "cell_type": "code",
      "source": [
        "cash = int(input())\n",
        "banknotes = 0\n",
        "print(cash)\n",
        "banknotes = cash // 100\n",
        "cash = cash % 100\n",
        "print(f'{banknotes} nota(s) de R$ 100,00')\n",
        "banknotes = cash // 50\n",
        "cash = cash % 50\n",
        "print(f'{banknotes} nota(s) de R$ 50,00')\n",
        "banknotes = cash // 20\n",
        "cash = cash % 20\n",
        "print(f'{banknotes} nota(s) de R$ 20,00')\n",
        "banknotes = cash // 10\n",
        "cash = cash % 10\n",
        "print(f'{banknotes} nota(s) de R$ 10,00')\n",
        "banknotes = cash // 5\n",
        "cash = cash % 5\n",
        "print(f'{banknotes} nota(s) de R$ 5,00')\n",
        "banknotes = cash // 2\n",
        "cash = cash % 2\n",
        "print(f'{banknotes} nota(s) de R$ 2,00')\n",
        "banknotes = cash // 1\n",
        "cash = cash % 1\n",
        "print(f'{banknotes} nota(s) de R$ 1,00')\n"
      ],
      "metadata": {
        "id": "ujqlZuR7-_V7",
        "colab": {
          "base_uri": "https://localhost:8080/"
        },
        "outputId": "c8c76618-2fda-41c6-a837-de8429a1e2fb"
      },
      "execution_count": null,
      "outputs": [
        {
          "output_type": "stream",
          "name": "stdout",
          "text": [
            "299\n",
            "299\n",
            "2 nota (s) de R$ 100,00\n",
            "1 nota (s) de R$ 50,00\n",
            "2 nota (s) de R$ 20,00\n",
            "0 nota (s) de R$ 10,00\n",
            "1 nota (s) de R$ 5,00\n",
            "2 nota (s) de R$ 2,00\n",
            "0 nota (s) de R$ 1,00\n"
          ]
        }
      ]
    },
    {
      "cell_type": "markdown",
      "source": [
        "#####BEE 1019 - Time Conversion"
      ],
      "metadata": {
        "id": "pPvs-odBFrvK"
      }
    },
    {
      "cell_type": "markdown",
      "source": [
        "Read an integer value, which is the duration in seconds of a certain event in a factory, and inform it expressed in hours:minutes:seconds.\n",
        "\n",
        "Input\n",
        "The input file contains an integer N.\n",
        "\n",
        "Output\n",
        "Print the read time in the input file (seconds) converted in hours:minutes:seconds like the following example.\n",
        "\n",
        "|Input Sample|Output Sample|\n",
        "|-|-|\n",
        "|556|0:9:16|\n",
        "|||\n",
        "|1|0:0:1|\n",
        "|||\n",
        "|140153|38:55:53|\n"
      ],
      "metadata": {
        "id": "Fu-dpIgYFwFK"
      }
    },
    {
      "cell_type": "code",
      "source": [
        "time = int(input())\n",
        "hour = time // 3600\n",
        "time = time % 3600\n",
        "minute = time // 60\n",
        "second = time % 60\n",
        "\n",
        "print(f'{hour}:{minute}:{second}')"
      ],
      "metadata": {
        "colab": {
          "base_uri": "https://localhost:8080/"
        },
        "id": "u4DgX6GWFzEq",
        "outputId": "47156e62-34f1-4706-e85c-c43da5464721"
      },
      "execution_count": null,
      "outputs": [
        {
          "output_type": "stream",
          "name": "stdout",
          "text": [
            "7000\n",
            "1:56:40\n"
          ]
        }
      ]
    },
    {
      "cell_type": "markdown",
      "source": [
        "#####BEE 1020 - Age in Days"
      ],
      "metadata": {
        "id": "ulPPdmKfJxtV"
      }
    },
    {
      "cell_type": "markdown",
      "source": [
        "Read an integer value corresponding to a person's age (in days) and print it in years, months and days, followed by its respective message “ano(s)”, “mes(es)”, “dia(s)”.\n",
        "\n",
        "Note: only to facilitate the calculation, consider the whole year with 365 days and 30 days every month. In the cases of test there will never be a situation that allows 12 months and some days, like 360, 363 or 364. This is just an exercise for the purpose of testing simple mathematical reasoning.\n",
        "\n",
        "**Input**\n",
        "The input file contains 1 integer value.\n",
        "\n",
        "**Output**\n",
        "Print the output, like the following example.\n",
        "\n",
        "|Input Sample|Output Sample|\n",
        "|-|-|\n",
        "|400|1 ano(s)|\n",
        "||1 mes(es)|\n",
        "||5 dia(as)|\n",
        "|||\n",
        "|800|2 ano(s)|\n",
        "||2 mes(es)|\n",
        "||10 dia(as)|\n",
        "|||\n",
        "|30|0 ano(s)|\n",
        "||1 mes(es)|\n",
        "||0 dia(as)|"
      ],
      "metadata": {
        "id": "SNwyTj6CJ1RE"
      }
    },
    {
      "cell_type": "code",
      "source": [
        "dia = int(input())\n",
        "ano = dia // 365\n",
        "dia = dia - (365*ano)\n",
        "mes = dia // 30\n",
        "dia = dia - (30*mes)\n",
        "print(f'{ano} ano(s)\\n{mes} mes(es)\\n{dia} dia(s)')"
      ],
      "metadata": {
        "id": "RjGSvjLAJ1sE",
        "colab": {
          "base_uri": "https://localhost:8080/"
        },
        "outputId": "cd2568fb-bf1a-4d8c-bbed-8e2517d8e046"
      },
      "execution_count": null,
      "outputs": [
        {
          "output_type": "stream",
          "name": "stdout",
          "text": [
            "400\n",
            "1 ano(s)\n",
            "1 mes(es)\n",
            "5 dia(s)\n"
          ]
        }
      ]
    },
    {
      "cell_type": "markdown",
      "source": [
        "#####BEE 1021 - Banknotes and Coins"
      ],
      "metadata": {
        "id": "mY99O1lEgXhG"
      }
    },
    {
      "cell_type": "markdown",
      "source": [
        "Read a value of floating point with two decimal places. This represents a monetary value. After this, calculate the smallest possible number of notes and coins on which the value can be decomposed. The considered notes are of 100, 50, 20, 10, 5, 2. The possible coins are of 1, 0.50, 0.25, 0.10, 0.05 and 0.01. Print the message “NOTAS:” followed by the list of notes and the message “MOEDAS:” followed by the list of coins.\n",
        "\n",
        "**Input**\n",
        "The input file contains a value of floating point N (0 ≤ N ≤ 1000000.00).\n",
        "\n",
        "**Output**\n",
        "Print the minimum quantity of banknotes and coins necessary to change the initial value, as the given example.\n",
        "\n",
        "|Input Sample|Output Sample|\n",
        "|-|-|\n",
        "|576.73|NOTAS:|\n",
        "||5 nota(s) de R\\$ 100.00|\n",
        "||1 nota(s) de R\\$ 500.00|\n",
        "||1 nota(s) de R\\$ 20.00|\n",
        "||0 nota(s) de R\\$ 10.00|\n",
        "||1 nota(s) de R\\$ 5.00|\n",
        "||0 nota(s) de R\\$ 2.00|\n",
        "||MOEDAS:|\n",
        "||1 moeda(s) de R\\$ 1.00|\n",
        "||1 moeda(s) de R\\$ 0.50|\n",
        "||0 moeda(s) de R\\$ 0.25|\n",
        "||2 moeda(s) de R\\$ 0.10|\n",
        "||0 moeda(s) de R\\$ 0.05|\n",
        "||3 moeda(s) de R\\$ 0.01|"
      ],
      "metadata": {
        "id": "VYSdlc3Kghw9"
      }
    },
    {
      "cell_type": "code",
      "source": [
        "value = float(input())\n",
        "notes = [2.00, 5.00, 10.00, 20.00, 50.00, 100.00]\n",
        "coins = [ 1.00, 0.50, 0.25, 0.10, 0.05, 0.01]\n",
        "notes = notes[::-1]\n",
        "qt_notes = dict()\n",
        "for x in notes:\n",
        "  v = value//x\n",
        "  value = value - (v * x)\n",
        "  qt_notes.update({x:v})\n",
        "qt_coins = dict()\n",
        "for x in coins:\n",
        "  v = value//x\n",
        "  value = value - (v*x)\n",
        "  qt_coins.update({x:v})\n",
        "\n",
        "print('NOTAS:')\n",
        "\n",
        "for x, y in qt_notes.items():\n",
        "  print(f'{y:.0f} nota(s) de R$ {x:.2f}')\n",
        "print('MOEDAS:')\n",
        "\n",
        "for x, y in qt_coins.items():\n",
        "  print(f'{y:.0f} moeda(s) de R$ {x:.2f}')\n"
      ],
      "metadata": {
        "colab": {
          "base_uri": "https://localhost:8080/"
        },
        "id": "D-65hugegiIV",
        "outputId": "2e0821fe-d175-40df-ca29-9f32a4f0020d"
      },
      "execution_count": null,
      "outputs": [
        {
          "output_type": "stream",
          "name": "stdout",
          "text": [
            "91.01\n",
            "NOTAS:\n",
            "0 nota(s) de R$ 100.00\n",
            "1 nota(s) de R$ 50.00\n",
            "2 nota(s) de R$ 20.00\n",
            "0 nota(s) de R$ 10.00\n",
            "0 nota(s) de R$ 5.00\n",
            "0 nota(s) de R$ 2.00\n",
            "MOEDAS:\n",
            "1 moeda(s) de R$ 1.00\n",
            "0 moeda(s) de R$ 0.50\n",
            "0 moeda(s) de R$ 0.25\n",
            "0 moeda(s) de R$ 0.10\n",
            "0 moeda(s) de R$ 0.05\n",
            "1 moeda(s) de R$ 0.01\n"
          ]
        }
      ]
    },
    {
      "cell_type": "code",
      "source": [
        "\n",
        "value = float(input())*100\n",
        "_notes = [2.00, 5.00, 10.00, 20.00, 50.00, 100.00]\n",
        "notes = [x*100 for x in _notes]\n",
        "_coins = [ 1.00, 0.50, 0.25, 0.10, 0.05, 0.01]\n",
        "coins = [x*100 for x in _coins]\n",
        "notes = notes[::-1]\n",
        "qt_notes = dict()\n",
        "for x in notes:\n",
        "  v = value//x\n",
        "  value = value - (v * x)\n",
        "  qt_notes.update({x:v})\n",
        "qt_coins = dict()\n",
        "for x in coins:\n",
        "  v = value//x\n",
        "  value = value - (v*x)\n",
        "  qt_coins.update({x:v})\n",
        "\n",
        "print('NOTAS:')\n",
        "\n",
        "for x, y in qt_notes.items():\n",
        "  print(f'{y:.0f} nota(s) de R$ {x/100:.2f}')\n",
        "print('MOEDAS:')\n",
        "\n",
        "for x, y in qt_coins.items():\n",
        "  print(f'{y:.0f} moeda(s) de R$ {x/100:.2f}')"
      ],
      "metadata": {
        "colab": {
          "base_uri": "https://localhost:8080/"
        },
        "id": "WUysQHS7qenx",
        "outputId": "2625df62-b05f-4850-9671-ec8a5851eacc"
      },
      "execution_count": null,
      "outputs": [
        {
          "output_type": "stream",
          "name": "stdout",
          "text": [
            "400\n",
            "NOTAS:\n",
            "4 nota(s) de R$ 100.00\n",
            "0 nota(s) de R$ 50.00\n",
            "0 nota(s) de R$ 20.00\n",
            "0 nota(s) de R$ 10.00\n",
            "0 nota(s) de R$ 5.00\n",
            "0 nota(s) de R$ 2.00\n",
            "MOEDAS:\n",
            "0 moeda(s) de R$ 1.00\n",
            "0 moeda(s) de R$ 0.50\n",
            "0 moeda(s) de R$ 0.25\n",
            "0 moeda(s) de R$ 0.10\n",
            "0 moeda(s) de R$ 0.05\n",
            "0 moeda(s) de R$ 0.01\n"
          ]
        }
      ]
    },
    {
      "cell_type": "markdown",
      "source": [
        "#####BEE 1035 - Selection Test 1"
      ],
      "metadata": {
        "id": "arf9BBMFsli4"
      }
    },
    {
      "cell_type": "markdown",
      "source": [
        "Read 4 integer values A, B, C and D. Then if B is greater than C and D is greater than A and if the sum of C and D is greater than the sum of A and B and if C and D were positives values and if A is even, write the message “Valores aceitos” (Accepted values). Otherwise, write the message “Valores nao aceitos” (Values not accepted).\n",
        "\n",
        "**Input**\n",
        "Four integer numbers A, B, C and D.\n",
        "\n",
        "**Output**\n",
        "Show the corresponding message after the validation of the values​​.\n",
        "\n",
        "|Input Sample|Output Sample|\n",
        "|-|-|\n",
        "|5 6 7 8|Valores nao aceitos|\n",
        "|||\n",
        "|2 3 2 6|Valores aceitos|\n",
        "\n"
      ],
      "metadata": {
        "id": "j1CkxiohsqJQ"
      }
    },
    {
      "cell_type": "code",
      "source": [
        "#1035\n",
        "list = input().split()\n",
        "size = len(list)\n",
        "list[0] = int(list[0])\n",
        "list = [int(list[x]) for x in range(0,size)]\n",
        "condition1 = list[1]>list[2] and list[3]>list[0]\n",
        "condition2 = list[2]+list[3] > list[0]+list[1]\n",
        "condition3 = list[2]>0 and list[3]>0 and list[0]%2==0\n",
        "condition = condition1 and condition2 and condition3\n",
        "if condition:\n",
        "  print('Valores aceitos')\n",
        "else:\n",
        "  print('Valores nao aceitos')"
      ],
      "metadata": {
        "colab": {
          "base_uri": "https://localhost:8080/"
        },
        "id": "IJ-DWlGFstSw",
        "outputId": "e1fa4ea9-1316-4612-e6e9-bbe27d2ee2eb"
      },
      "execution_count": null,
      "outputs": [
        {
          "output_type": "stream",
          "name": "stdout",
          "text": [
            "2 3 2 6\n",
            "Valores aceitos\n"
          ]
        }
      ]
    },
    {
      "cell_type": "markdown",
      "source": [
        "#####BEE 1036 - Bhaskara's Formula"
      ],
      "metadata": {
        "id": "87ydv4PkxSeu"
      }
    },
    {
      "cell_type": "markdown",
      "source": [
        "Read 3 floating-point numbers. After, print the roots of bhaskara’s formula. If it's impossible to calculate the roots because a division by zero or a square root of a negative number, presents the message “Impossivel calcular”.\n",
        "\n",
        "**Input**\n",
        "Read 3 floating-point numbers (double) A, B and C.\n",
        "\n",
        "**Output**\n",
        "Print the result with 5 digits after the decimal point or the message if it is impossible to calculate.\n",
        "\n",
        "|Input Samples|Output Samples|\n",
        "|-|-|\n",
        "|10.0 20.1 5.1|R1 = -0.29788|\n",
        "||R2 = -1.71212|\n",
        "|||\n",
        "|0.0 20.0 5.0|Impossivel calcular|\n",
        "|||\n",
        "|10.3 203.0 5.0|R1 = -0.02466|\n",
        "||R2 = -19.68408|\n",
        "|||\n",
        "|10.0 3.0 5.0|Impossivel calcular|"
      ],
      "metadata": {
        "id": "tXFKdIr6xWOG"
      }
    },
    {
      "cell_type": "code",
      "source": [
        "#1036\n",
        "\n",
        "list = input().split()\n",
        "list = [float(list[x]) for x in range(0,len(list))]\n",
        "delta = (list[1]**2)-(4*list[0]*list[2])\n",
        "\n",
        "if list[0]==0 or delta<0:\n",
        "  print('Impossivel calcular')\n",
        "else:\n",
        "  r1 = (-list[1]+(delta**(1/2)))/(2*list[0])\n",
        "  r2 = (-list[1]-(delta**(1/2)))/(2*list[0])\n",
        "  print(f'R1 = {r1:.5f}\\nR2 = {r2:.5f}')"
      ],
      "metadata": {
        "colab": {
          "base_uri": "https://localhost:8080/"
        },
        "id": "J4RqyrPfxeV2",
        "outputId": "46610248-ed42-41f2-b58b-6257ad6a920b"
      },
      "execution_count": null,
      "outputs": [
        {
          "output_type": "stream",
          "name": "stdout",
          "text": [
            "10.0 3.0 5.0\n",
            "-191.0\n",
            "Impossivel calcular\n"
          ]
        }
      ]
    },
    {
      "cell_type": "markdown",
      "source": [
        "#####BEE 1037 - Interval"
      ],
      "metadata": {
        "id": "06NRL1-iOkM4"
      }
    },
    {
      "cell_type": "markdown",
      "source": [
        "You must make a program that read a float-point number and print a message saying in which of following intervals the number belongs: [0,25] (25,50], (50,75], (75,100]. If the read number is less than zero or greather than 100, the program must print the message “Fora de intervalo” that means \"Out of Interval\".\n",
        "\n",
        "The symbol '(' represents greather than. For example:\n",
        "[0,25] indicates numbers between 0 and 25.0000, including both.\n",
        "(25,50] indicates numbers greather than 25 (25.00001) up to 50.0000000.\n",
        "\n",
        "**Input**\n",
        "The input file contains a floating-point number.\n",
        "\n",
        "**Output**\n",
        "The output must be a message like following example.\n",
        "\n",
        "|Input Sample|Output Sample|\n",
        "|-|-|\n",
        "|25.01|Intervalo (25,50]|\n",
        "|||\n",
        "|25.00|Intervalo [0,25]|\n",
        "|||\n",
        "|100.00|Intervalo (75,100]|\n",
        "|||\n",
        "|-25.02|Fora de intervalo|"
      ],
      "metadata": {
        "id": "dJmGKEpZPJoP"
      }
    },
    {
      "cell_type": "code",
      "source": [
        "number = float(input())\n",
        "if number < 0 or number > 100:\n",
        "  print('Fora de intervalo')\n",
        "elif number >= 0 and number <=25:\n",
        "  print('Intervalo [0,25]')\n",
        "elif number > 25 and number <=50:\n",
        "  print('Intervalo (25,50]')\n",
        "elif number > 50 and number <=75:\n",
        "  print('Intervalo (50,76]')\n",
        "elif number > 75 and number <=100:\n",
        "  print('Intervalo (75,100]')"
      ],
      "metadata": {
        "colab": {
          "base_uri": "https://localhost:8080/"
        },
        "id": "9-_jGbmAPVR3",
        "outputId": "a1faa977-63f1-4b41-823b-a0defae928cd"
      },
      "execution_count": null,
      "outputs": [
        {
          "output_type": "stream",
          "name": "stdout",
          "text": [
            "100.00\n",
            "Intervalo (75,100]\n"
          ]
        }
      ]
    },
    {
      "cell_type": "markdown",
      "source": [
        "#####BEE 1038 - Snack"
      ],
      "metadata": {
        "id": "yPDoZVN3X4sW"
      }
    },
    {
      "cell_type": "markdown",
      "source": [
        "Using the following table, write a program that reads a code and the amount of an item. After, print the value to pay. This is a very simple program with the only intention of practice of selection commands.\n",
        "\n",
        "|CODE|SPECIFICATION|PRICE|\n",
        "|-|-|-|\n",
        "|1|Cachorro Quente|R\\$ 4.00|\n",
        "|2|X-Salda|R\\$ 4.50|\n",
        "|3|X-Bacon|R\\$ 5.00|\n",
        "|4|Torrada simples|R\\$ 2.00|\n",
        "|5|Refrigerante|R\\$ 1.50|\n",
        "\n",
        "**Input**\n",
        "The input file contains two integer numbers X and Y. X is the product code and Y is the quantity of this item according to the above table.\n",
        "\n",
        "**Output**\n",
        "The output must be a message \"Total: R$ \" followed by the total value to be paid, with 2 digits after the decimal point.\n",
        "\n",
        "|Input Sample|Output Sample|\n",
        "|-|-|\n",
        "|3 2|Total: R\\$ 10.00|\n",
        "|||\n",
        "|4 3|Total: R\\$ 6.00|\n",
        "|||\n",
        "|2 3|Total: R\\$ 13.50|\n",
        "|||"
      ],
      "metadata": {
        "id": "XBJBxNsRYAsv"
      }
    },
    {
      "cell_type": "code",
      "source": [
        "dict = {\n",
        "  1:('Cachorro Quente',4.00),\n",
        "  2:('X-salada',4.50),\n",
        "  3:('X-Bacon',5.00),\n",
        "  4:('Torrada simples',2.00),\n",
        "  5:('Refrigerante',1.50)\n",
        "}\n",
        "list = input().split()\n",
        "list = [int(x) for x in list]\n",
        "print(f'Total: R$ {(dict[list[0]][1])*list[1]:.2f}')"
      ],
      "metadata": {
        "colab": {
          "base_uri": "https://localhost:8080/"
        },
        "id": "c0hDLOdUcwvX",
        "outputId": "9985dd97-2bda-441d-bda0-316e29075529"
      },
      "execution_count": null,
      "outputs": [
        {
          "output_type": "stream",
          "name": "stdout",
          "text": [
            "1 6\n",
            "Total: R$ 24.00\n"
          ]
        }
      ]
    },
    {
      "cell_type": "markdown",
      "source": [
        "#####BEE 1040 - Average 3"
      ],
      "metadata": {
        "id": "mZ96bM1-QlvU"
      }
    },
    {
      "cell_type": "markdown",
      "source": [
        "Read four numbers (N1, N2, N3, N4), which one with 1 digit after the decimal point, corresponding to 4 scores obtained by a student. Calculate the average with weights 2, 3, 4 e 1 respectively, for these 4 scores and print the message \"Media: \" (Average), followed by the calculated result. If the average was 7.0 or more, print the message \"Aluno aprovado.\" (Approved Student). If the average was less than 5.0, print the message: \"Aluno reprovado.\" (Reproved Student). If the average was between 5.0 and 6.9, including these, the program must print the message \"Aluno em exame.\" (In exam student).\n",
        "\n",
        "In case of exam, read one more score. Print the message \"Nota do exame: \" (Exam score) followed by the typed score. Recalculate the average (sum the exam score with the previous calculated average and divide by 2) and print the message “Aluno aprovado.” (Approved student) in case of average 5.0 or more) or \"Aluno reprovado.\" (Reproved student) in case of average 4.9 or less. For these 2 cases (approved or reproved after the exam) print the message \"Media final: \" (Final average) followed by the final average for this student in the last line.\n",
        "\n",
        "**Input**\n",
        "The input contains four floating point numbers that represent the students' grades.\n",
        "\n",
        "**Output**\n",
        "Print all the answers with one digit after the decimal point.\n",
        "\n",
        "|Input Sample|Output Sample|\n",
        "|-|-|\n",
        "|2.0 4.0 7.5 8.0|Media: 5.4|\n",
        "|6.4|Aluno em exame.|\n",
        "||Nota do exame: 6.4|\n",
        "||Aluno aprovado.|\n",
        "||Media final: 5.9|\n",
        "|||\n",
        "|2.0 6.5 4.0 9.0|Media: 4.8|\n",
        "||Aluno reprovado.|\n",
        "|||\n",
        "|9.0 4.0 8.5 9.0|Media: 7.3|\n",
        "||Aluno aprovado.|\n"
      ],
      "metadata": {
        "id": "_xt1srtsQw18"
      }
    },
    {
      "cell_type": "code",
      "source": [
        "def average():\n",
        "  list = input().split()\n",
        "  list = [float(x) for x in list]\n",
        "  avg = ((list[0]*2)+(list[1]*3)+(list[2]*4)+(list[3]*1))/(2+3+4+1)\n",
        "  return avg\n",
        "avg = average()\n",
        "\n",
        "print(f'Media: {avg:.1f}')\n",
        "if avg>=7.0:\n",
        "  status = 'Aluno aprovado.'\n",
        "  print(f'{status}')\n",
        "elif avg<5.0:\n",
        "  status = 'Aluno reprovado.'\n",
        "  print(f'{status}')\n",
        "elif avg>=5.0 and avg<7.0:\n",
        "  status = 'Aluno em exame.'\n",
        "  print(f'{status}')\n",
        "if status == 'Aluno em exame.':\n",
        "  score_5 = float(input())\n",
        "  avg_final = (avg+score_5)/2\n",
        "  print(f'Nota do exame: {score_5}')\n",
        "  if avg_final>=5.0:\n",
        "    print('Aluno aprovado.')\n",
        "  else:\n",
        "    print('Aluno reprovado.')\n",
        "  print(f'Media final: {avg_final:.1f}')\n"
      ],
      "metadata": {
        "colab": {
          "base_uri": "https://localhost:8080/"
        },
        "id": "yZK7WCLsQ8h8",
        "outputId": "10c0e3f9-38d1-47b9-a9ac-afdfaea6be50"
      },
      "execution_count": null,
      "outputs": [
        {
          "output_type": "stream",
          "name": "stdout",
          "text": [
            "2 4 7.5 8\n",
            "Média: 5.4\n",
            "Aluno em exame.\n",
            "6.4\n",
            "Nota do exame: 6.4\n",
            "Aluno aprovado.\n",
            "Media final: 5.9\n"
          ]
        }
      ]
    },
    {
      "cell_type": "markdown",
      "source": [
        "#####BEE 1041 - Coordinates of a Point"
      ],
      "metadata": {
        "id": "K-4wY8HCeBaT"
      }
    },
    {
      "cell_type": "markdown",
      "source": [
        "Write an algorithm that reads two floating values (x and y), which should represent the coordinates of a point in a plane. Next, determine which quadrant the point belongs, or if you are at one of the Cartesian axes or the origin (x = y = 0).\n",
        "\n",
        "<img src=https://resources.beecrowd.com/gallery/images/problems/UOJ_1041.png>\n",
        "\n",
        "If the point is at the origin, write the message \"Origem\".\n",
        "\n",
        "If the point is at X axis write \"Eixo X\", else if the point is at Y axis write \"Eixo Y\".\n",
        "\n",
        "**Input**\n",
        "The input contains the coordinates of a point.\n",
        "\n",
        "**Output**\n",
        "The output should display the quadrant in which the point is.\n",
        "\n",
        "|Input Sample|Output Sample|\n",
        "|-|-|\n",
        "|4.5 -2.2|Q4|\n",
        "|||\n",
        "|0.1 0.1|Q1|\n",
        "|||\n",
        "|0.0 0.0|Origem|"
      ],
      "metadata": {
        "id": "NPGt1XfPeBJs"
      }
    },
    {
      "cell_type": "code",
      "source": [
        "point = input().split()\n",
        "point = [float(x) for x in point]\n",
        "if point[0]==0 and point[1]==0:\n",
        "  print('Origem')\n",
        "elif point[0]==0 and point[1]!=0:\n",
        "  print('Eixo Y')\n",
        "elif point[1]==0 and point[0]!=0:\n",
        "  print('Eixo X')\n",
        "elif point[0]>0 and point[1]>0:\n",
        "  print('Q1')\n",
        "elif point[0]<0 and point[1]>0:\n",
        "  print('Q2')\n",
        "elif point[0]<0 and point[1]<0:\n",
        "  print('Q3')\n",
        "elif point[0]>0 and point[1]<0:\n",
        "  print('Q4')\n"
      ],
      "metadata": {
        "id": "zL8XhDhTXuBT",
        "colab": {
          "base_uri": "https://localhost:8080/"
        },
        "outputId": "9f73caea-8377-4839-9c92-1c7916f552f3"
      },
      "execution_count": null,
      "outputs": [
        {
          "output_type": "stream",
          "name": "stdout",
          "text": [
            "-45 -15\n",
            "Q3\n"
          ]
        }
      ]
    },
    {
      "cell_type": "markdown",
      "source": [
        "#####1042 Simple Sort"
      ],
      "metadata": {
        "id": "70l7kMN2-X-F"
      }
    },
    {
      "cell_type": "markdown",
      "source": [
        "Read three integers and sort them in ascending order. After, print these values in ascending order, a blank line and then the values in the sequence as they were readed.\n",
        "\n",
        "Input\n",
        "The input contains three integer numbers.\n",
        "\n",
        "Output\n",
        "Present the output as requested above.\n",
        "\n",
        "|INPUT SAMPLE|OUTPUT SAMPLE|\n",
        "|------------|-------------|\n",
        "|7 21 -14|-14|\n",
        "||7|\n",
        "||21|\n",
        "|||\n",
        "||-14|\n",
        "||7|\n",
        "||21|\n",
        "|||\n",
        "\n",
        "|INPUT SAMPLE|OUTPUT SAMPLE|\n",
        "|------------|-------------|\n",
        "|-14 21 7|-14|\n",
        "||7|\n",
        "||21|\n",
        "|||\n",
        "||-14|\n",
        "||21|\n",
        "||7|\n",
        "\n"
      ],
      "metadata": {
        "id": "kLTWVHBw-cq0"
      }
    },
    {
      "cell_type": "code",
      "source": [
        "list = input().split()\n",
        "list = [int(x) for x in list]\n",
        "list_read = list[::]\n",
        "list.sort()\n",
        "for x in list:\n",
        "  print(x)\n",
        "print('')\n",
        "for x in list_read:\n",
        "  print(x)"
      ],
      "metadata": {
        "colab": {
          "base_uri": "https://localhost:8080/"
        },
        "id": "t2xy2EhX-j9t",
        "outputId": "7cb133c7-d305-4512-c569-fe1cbd24a91f"
      },
      "execution_count": null,
      "outputs": [
        {
          "output_type": "stream",
          "name": "stdout",
          "text": [
            "-14 9 2\n",
            "-14\n",
            "2\n",
            "9\n",
            "\n",
            "-14\n",
            "9\n",
            "2\n"
          ]
        }
      ]
    },
    {
      "cell_type": "markdown",
      "source": [
        "#####BEE 1043 - Triangle"
      ],
      "metadata": {
        "id": "y5NINvdIRDcm"
      }
    },
    {
      "cell_type": "markdown",
      "source": [
        "Read three point floating values (A, B and C) and verify if is possible to make a triangle with them. If it is possible, calculate the perimeter of the triangle and print the message:\n",
        "\n",
        "\n",
        "Perimetro = XX.X\n",
        "\n",
        "\n",
        "If it is not possible, calculate the area of the trapezium which basis A and B and C as height, and print the message:\n",
        "\n",
        "\n",
        "Area = XX.X\n",
        "\n",
        "Input\n",
        "The input file has tree floating point numbers.\n",
        "\n",
        "Output\n",
        "Print the result with one digit after the decimal point.\n",
        "\n",
        "|INPUT SAMPLE|OUTPUT SAMPLE|\n",
        "|------------|-------------|\n",
        "|6.0 4.0 2.0|Area = 10.0|\n",
        "|6.0 4.0 2.1|Perimetro = 12.1|\n",
        "\n",
        "\n"
      ],
      "metadata": {
        "id": "5cQsvValRauO"
      }
    },
    {
      "cell_type": "code",
      "source": [
        "sizes = input().split()\n",
        "sizes = [float(x) for x in sizes]\n",
        "condition = sizes[0]+sizes[1]>sizes[2] and sizes[1]+sizes[2]>sizes[0] and sizes[2]+sizes[0]>sizes[1]\n",
        "if condition:\n",
        "  per = sum(sizes)\n",
        "  print(f'Perimetro = {per:.1f}')\n",
        "else:\n",
        "  area = ((sizes[0]+sizes[1])*sizes[2])/2\n",
        "  print(f'Area = {area:.1f}')"
      ],
      "metadata": {
        "colab": {
          "base_uri": "https://localhost:8080/"
        },
        "id": "D8yr4ZWSRgm2",
        "outputId": "7ca55776-e187-4840-ec6e-6216251d1d36"
      },
      "execution_count": null,
      "outputs": [
        {
          "output_type": "stream",
          "name": "stdout",
          "text": [
            " 6.0 4.0 2.1\n",
            "Perimetro = 12.10\n"
          ]
        }
      ]
    },
    {
      "cell_type": "markdown",
      "source": [
        "#####BEE 1044 - Multiples"
      ],
      "metadata": {
        "id": "NkjM16XKc-s6"
      }
    },
    {
      "cell_type": "markdown",
      "source": [
        "Read two integer values (A and B). After, the program should print the message \"Sao Multiplos\" (are multiples) or \"Nao sao Multiplos\" (aren’t multiples), corresponding to the read values.\n",
        "\n",
        "Input\n",
        "The input has two integer numbers.\n",
        "\n",
        "Output\n",
        "Print the relative message to the input as stated above.\n",
        "\n",
        "|Input Sample|Output Sample|\n",
        "|------------|-------------|\n",
        "|6 24        |Sao Multiplos|\n",
        "|6 25        |Nao sao Multiplos|\n"
      ],
      "metadata": {
        "id": "ASEjhRGcdB_a"
      }
    },
    {
      "cell_type": "code",
      "source": [
        "values = input().split()\n",
        "values = [int(x) for x in values]\n",
        "a = values[0]\n",
        "b = values[1]\n",
        "\n",
        "if a>b:\n",
        "  if a%b==0:\n",
        "    print(\"Sao Multiplos\")\n",
        "  else:\n",
        "    print('Nao sao Multiplos')\n",
        "elif b>a:\n",
        "  if b%a==0:\n",
        "    print(\"Sao Multiplos\")\n",
        "  else:\n",
        "    print('Nao sao Multiplos')\n",
        "elif a==b:\n",
        "  print('Sao Multiplos')"
      ],
      "metadata": {
        "colab": {
          "base_uri": "https://localhost:8080/"
        },
        "id": "DZAHaEbJddSy",
        "outputId": "bf02c2b9-b1dd-4917-beb4-88336f74d43d"
      },
      "execution_count": null,
      "outputs": [
        {
          "output_type": "stream",
          "name": "stdout",
          "text": [
            "24 6\n",
            "Sao Multiplos\n"
          ]
        }
      ]
    },
    {
      "cell_type": "markdown",
      "source": [
        "#####BEE 1045 - Triangle Types"
      ],
      "metadata": {
        "id": "rxvMwao7yXPW"
      }
    },
    {
      "cell_type": "markdown",
      "source": [
        "Read 3 double numbers (A, B and C) representing the sides of a triangle and arrange them in decreasing order, so that the side A is the biggest of the three sides. Next, determine the type of triangle that they can make, based on the following cases always writing an appropriate message:\n",
        "\n",
        "*  if A ≥ B + C, write the message: NAO FORMA TRIANGULO\n",
        "*  if A² = B² + C², write the message: TRIANGULO RETANGULO\n",
        "*  if A² > B² + C², write the message: TRIANGULO OBTUSANGULO\n",
        "*  if A² < B² + C², write the message: TRIANGULO ACUTANGULO\n",
        "*  if the three sides are the same size, write the message: TRIANGULO EQUILATERO\n",
        "*  if only two sides are the same and the third one is different, write the message: TRIANGULO ISOSCELES\n",
        "\n",
        "**Input**\n",
        "\n",
        "The input contains three double numbers, A (0 < A) , B (0 < B) and C (0 < C).\n",
        "\n",
        "**Output**\n",
        "\n",
        "Print all the classifications of the triangle presented in the input.\n",
        "\n",
        "|Input Samples|Output Samples|\n",
        "|-------------|--------------|\n",
        "|7.0 5.0 7.0|TRIANGULO ACUTANGULO|\n",
        "| |TRIANGULO ISOSCELES|\n",
        "|6.0 6.0 10.0|TRIANGULO OBTUSANGULO|\n",
        "| |TRIANGULO ISOSCELES|\n",
        "|6.0 6.0 6.0|TRIANGULO ACUTANGULO|\n",
        "| |TRIANGULO EQUILATERO|\n",
        "|5.0 7.0 2.0|NAO FORMA TRIANGULO|\n"
      ],
      "metadata": {
        "id": "0cGtv9tvybXk"
      }
    },
    {
      "cell_type": "code",
      "source": [
        "sides = [float(x) for x in input().split()]\n",
        "sides.sort(reverse=True)\n",
        "A, B, C = sides\n",
        "if A>=(B+C):\n",
        "  print('NAO FORMA TRIANGULO')\n",
        "elif A**2 == ((B**2)+(C**2)):\n",
        "  print('TRIANGULO RETANGULO')\n",
        "elif A**2 > ((B**2)+(C**2)):\n",
        "  print('TRIANGULO OBTUSANGULO')\n",
        "elif A**2 < ((B**2)+(C**2)):\n",
        "  print('TRIANGULO ACUTANGULO')\n",
        "if A==B and B==C:\n",
        "  print('TRIANGULO EQUILATERO')\n",
        "if (A==B and B!=C) or (A==C and A!=C) or (B==C and B!=A):\n",
        "  print('TRIANGULO ISOSCELES')"
      ],
      "metadata": {
        "colab": {
          "base_uri": "https://localhost:8080/"
        },
        "id": "ELG5S26dzCkV",
        "outputId": "5d554cd3-d014-4af5-e521-0c6ddff4ce78"
      },
      "execution_count": null,
      "outputs": [
        {
          "output_type": "stream",
          "name": "stdout",
          "text": [
            "6 6 10\n",
            "TRIANGULO OBTUSANGULO\n",
            "TRIANGULO ISOSCELES\n"
          ]
        }
      ]
    },
    {
      "cell_type": "markdown",
      "source": [
        "#####BEE 1046 - Game Time\n"
      ],
      "metadata": {
        "id": "IsCy_zhYKysE"
      }
    },
    {
      "cell_type": "markdown",
      "source": [
        "Read the start time and end time of a game, in hours. Then calculate the duration of the game, knowing that the game can begin in a day and finish in another day, with a maximum duration of 24 hours. The message must be printed in portuguese “O JOGO DUROU X HORA(S)” that means “THE GAME LASTED X HOUR(S)”\n",
        "\n",
        "**Input**\n",
        "\n",
        "Two integer numbers representing the start and end time of a game.\n",
        "\n",
        "**Output**\n",
        "\n",
        "Print the duration of the game as in the sample output.\n",
        "\n",
        "|Input Sample|Output Sample|\n",
        "|------------|-------------|\n",
        "|16 2|O JOGO DUROU 10 HORA(S)|\n",
        "|0 0|O JOGO DUROU 24 HORA(S)|\n",
        "|2 16|O JOGO DUROU 14 HORA(S)|\n"
      ],
      "metadata": {
        "id": "lhrp4jeJK7SM"
      }
    },
    {
      "cell_type": "code",
      "source": [
        "time = [int(x) for x in input().split()]\n",
        "start = time[0]\n",
        "end = time[1]\n",
        "counter = 0\n",
        "#print(start, end, counter)\n",
        "if start<end:\n",
        "  counter = end - start\n",
        "else:\n",
        "  while start<24:\n",
        "    #print(start, counter)\n",
        "    counter+=1\n",
        "    start+=1\n",
        "    if start == 24:\n",
        "\n",
        "      start = 0\n",
        "      while start<end:\n",
        "        #print(start, counter)\n",
        "        counter+=1\n",
        "        start+=1\n",
        "        #if counter == 24:\n",
        "         # break\n",
        "      break\n",
        "\n",
        "print(f'O JOGO DUROU {counter:.0f} HORA(S)')"
      ],
      "metadata": {
        "colab": {
          "base_uri": "https://localhost:8080/"
        },
        "id": "rN6N6XbiLbtz",
        "outputId": "b838fc3e-8741-472a-ae09-db91ea2162f9"
      },
      "execution_count": null,
      "outputs": [
        {
          "output_type": "stream",
          "name": "stdout",
          "text": [
            "2 16\n",
            "O JOGO DUROU 14 HORA(S)\n"
          ]
        }
      ]
    },
    {
      "cell_type": "markdown",
      "source": [
        "#####BEE 1047 - Game Time with Minutes"
      ],
      "metadata": {
        "id": "TNHiZoM1T5fo"
      }
    },
    {
      "cell_type": "markdown",
      "source": [
        "Read the start time and end time of a game, in hours and minutes (initial hour, initial minute, final hour, final minute). Then print the duration of the game, knowing that the game can begin in a day and finish in another day,\n",
        "\n",
        "Obs.: With a maximum game time of 24 hours and the minimum game time of 1 minute.\n",
        "\n",
        "**Input**\n",
        "Four integer numbers representing the start and end time of the game.\n",
        "\n",
        "**Output**\n",
        "Print the duration of the game in hours and minutes, in this format: “O JOGO DUROU XXX HORA(S) E YYY MINUTO(S)” . Which means: the game lasted XXX hour(s) and YYY minutes.\n",
        "\n",
        "|INPUT SAMPLE|OUTPUT SAMPLE|\n",
        "|------------|-------------|\n",
        "|7 8 9 10|O JOGO DUROU 2 HORA(S) E 2 MINUTO(S)|\n",
        "|7 7 7 7|O JOGO DUROU 24 HORA(S) E 0 MINUTO(S)|\n",
        "|7 10 8 9|O JOGO DUROU 0 HORA(S) E 59 MINUTO(S)|\n",
        "\n",
        "\n"
      ],
      "metadata": {
        "id": "QwVRdbcTT8i_"
      }
    },
    {
      "cell_type": "code",
      "source": [
        "lista = list((map(int, input().split())))\n",
        "start = (lista[0]*3600) + (lista[1]*60)\n",
        "end = (lista[2]*3600) + (lista[3]*60)\n",
        "temp = 0\n",
        "seconds = 0\n",
        "#print(start, end)\n",
        "#if start == end:\n",
        "#  hours = 24\n",
        "#  minutes = 0\n",
        "#  print(f'O JOGO DUROU {hours} HORA(S) E {minutes} MINUTO(S)')\n",
        "if end>start:\n",
        "    seconds = end-start\n",
        "else:\n",
        "    count = 0\n",
        "    while start<86400:\n",
        "      #print(f'start {start}, count {count}')\n",
        "      count+=1\n",
        "      start+=1\n",
        "    if start == 86400:\n",
        "      start = 0\n",
        "      while start<end:\n",
        "        #print(f'start {start}, count {count}')\n",
        "        start+=1\n",
        "        count+=1\n",
        "    seconds = count\n",
        "#print(seconds)\n",
        "hours = seconds//3600\n",
        "seconds = seconds%3600\n",
        "minutes = seconds//60\n",
        "print(f'O JOGO DUROU {hours} HORA(S) E {minutes} MINUTO(S)')"
      ],
      "metadata": {
        "id": "5qLGljCBUUhn",
        "colab": {
          "base_uri": "https://localhost:8080/"
        },
        "outputId": "cf7c411c-c3dd-4bc5-8e04-1d24f1e06bb6"
      },
      "execution_count": null,
      "outputs": [
        {
          "output_type": "stream",
          "name": "stdout",
          "text": [
            "20 45 3 15\n",
            "O JOGO DUROU 6 HORA(S) E 30 MINUTO(S)\n"
          ]
        }
      ]
    },
    {
      "cell_type": "markdown",
      "source": [
        "#####BEE 1048 - Salary Increase"
      ],
      "metadata": {
        "id": "I9GEK-PfSUkQ"
      }
    },
    {
      "cell_type": "markdown",
      "source": [
        "The company ABC decided to give a salary increase to its employees, according to the following table:\n",
        "\n",
        "|Salary|Readjustment Rate|\n",
        "|-|-|\n",
        "|0 - 400.00|15%|\n",
        "|400.01 - 800.00|12%|\n",
        "|800.01 - 1200.00|10%|\n",
        "|1200.01 - 2000.00|7%|\n",
        "|Above 2000.00|4%|\n",
        "\n",
        "Read the employee's salary, calculate and print the new employee's salary, as well the money earned and the increase percentual obtained by the employee, with corresponding messages in Portuguese, as the below example.\n",
        "\n",
        "**Input**\n",
        "The input contains only a floating-point number, with 2 digits after the decimal point.\n",
        "\n",
        "**Output**\n",
        "Print 3 messages followed by the corresponding numbers (see example) informing the new salary, the among of money earned (both must be shown with 2 decimal places) and the percentual obtained by the employee. Note:\n",
        "Novo salario:  means \"New Salary\"\n",
        "Reajuste ganho: means \"Money earned\"\n",
        "Em percentual: means \"In percentage\"\n",
        "\n",
        "|Input Sample|Output Sample|\n",
        "|-|-|\n",
        "|400.00|Novo salario: 460.00|\n",
        "||Reajuste ganho: 60.00|\n",
        "||Em percentual: 15 %|\n",
        "|||\n",
        "|800.01|Novo salario: 880.01|\n",
        "||Reajuste ganho: 80.00|\n",
        "||Em percentual: 10 %|\n",
        "|||\n",
        "|2000.00|Novo salario: 2140.00|\n",
        "||Reajuste ganho: 140.00|\n",
        "||Em percentual: 7 %|"
      ],
      "metadata": {
        "id": "n23NVdikSXkg"
      }
    },
    {
      "cell_type": "code",
      "source": [
        "def adjustment(salary):\n",
        "  if salary<=400:\n",
        "    percent = 15\n",
        "    adjustment = salary*percent/100\n",
        "    new_salary = salary+adjustment\n",
        "  elif salary<=800:\n",
        "    percent = 12\n",
        "    adjustment = salary*percent/100\n",
        "    new_salary = salary+adjustment\n",
        "  elif salary<=1200:\n",
        "    percent = 10\n",
        "    adjustment = salary*percent/100\n",
        "    new_salary = salary+adjustment\n",
        "  elif salary<=2000:\n",
        "    percent = 7\n",
        "    adjustment = salary*percent/100\n",
        "    new_salary = salary+adjustment\n",
        "  else:\n",
        "    percent = 4\n",
        "    adjustment = salary*percent/100\n",
        "    new_salary = salary+adjustment\n",
        "  return print(f'Novo salario: {new_salary:.2f}\\nReajuste ganho: {adjustment:.2f}\\nEm percentual: {percent} %')\n",
        "\n",
        "adjustment(float(input()))"
      ],
      "metadata": {
        "colab": {
          "base_uri": "https://localhost:8080/"
        },
        "id": "4WGVHmaoUMyA",
        "outputId": "69618e4c-1988-4b95-db0c-cb707f95e3c4"
      },
      "execution_count": null,
      "outputs": [
        {
          "output_type": "stream",
          "name": "stdout",
          "text": [
            "2000\n",
            "Novo salario: 2140.00\n",
            "Reajuste ganho: 140.00\n",
            "Em percentual: 7 %\n"
          ]
        }
      ]
    },
    {
      "cell_type": "markdown",
      "source": [
        "#####BEE 1049 - Animal"
      ],
      "metadata": {
        "id": "4KNe2Hw4GPsf"
      }
    },
    {
      "cell_type": "markdown",
      "source": [
        "In this problem, your job is to read three Portuguese words. These words define an animal according to the table below, from left to right. After, print the chosen animal defined by these three words.\n",
        "\n",
        "<img src=https://resources.beecrowd.com/gallery/images/problems/UOJ_1049_b.png>\n",
        "\n",
        "**Input**\n",
        "The input contains 3 words, one by line, that will be used to identify the animal, according to the above table, with all letters in lowercase.\n",
        "\n",
        "**Output**\n",
        "Print the animal name according to the given input.\n",
        "\n",
        "|Input Sample|Output Sample|\n",
        "|-|-|\n",
        "|vertebrado|homem|\n",
        "|mamifero||\n",
        "|onivoro||\n",
        "|||\n",
        "|vertebrado|aguia|\n",
        "|ave||\n",
        "|carnivoro||\n",
        "|||\n",
        "|invertebrado|minhoca|\n",
        "|anelideo||\n",
        "|onivoro||"
      ],
      "metadata": {
        "id": "2VgPRaPXGTQe"
      }
    },
    {
      "cell_type": "code",
      "source": [
        "word_1 = input()\n",
        "word_2 = input()\n",
        "word_3 = input()\n",
        "\n",
        "if word_1 == 'vertebrado':\n",
        "  if word_2 == 'ave':\n",
        "    if word_3 == 'carnivoro':\n",
        "      print('aguia')\n",
        "    elif word_3 == 'onivoro':\n",
        "      print('pomba')\n",
        "  elif word_2 == 'mamifero':\n",
        "    if word_3 == 'onivoro':\n",
        "      print('homem')\n",
        "    elif word_3 == 'herbivoro':\n",
        "      print('vaca')\n",
        "elif word_1 == 'invertebrado':\n",
        "  if word_2 == 'inseto':\n",
        "    if word_3 == 'hematofago':\n",
        "      print('pulga')\n",
        "    elif word_3 == 'herbivoro':\n",
        "      print('lagarta')\n",
        "  elif word_2 == 'anelideo':\n",
        "    if word_3 == 'hematofago':\n",
        "      print('sanguessuga')\n",
        "    elif word_3 == 'onivoro':\n",
        "      print('minhoca')"
      ],
      "metadata": {
        "colab": {
          "base_uri": "https://localhost:8080/"
        },
        "id": "j5y2PxUE8zq-",
        "outputId": "d5286c1a-9195-4ce9-b435-3188bf200f40"
      },
      "execution_count": 6,
      "outputs": [
        {
          "output_type": "stream",
          "name": "stdout",
          "text": [
            "invertebrado\n",
            "anelideo\n",
            "onivoro\n",
            "minhoca\n"
          ]
        }
      ]
    },
    {
      "cell_type": "markdown",
      "source": [
        "#####BEE 1050 - DDD"
      ],
      "metadata": {
        "id": "CG6RKVWM-_Hm"
      }
    },
    {
      "cell_type": "markdown",
      "source": [
        "Read an integer number that is the code number for phone dialing. Then, print the destination according to the following table:\n",
        "\n",
        "<img src=https://resources.beecrowd.com/gallery/images/problems/UOJ_1050.png>\n",
        "\n",
        "If the input number isn’t found in the above table, the output must be:\n",
        "DDD nao cadastrado\n",
        "That means “DDD not found” in Portuguese language.\n",
        "\n",
        "**Input**\n",
        "The input consists in a unique integer number.\n",
        "\n",
        "**Output**\n",
        "Print the city name corresponding to the input DDD. Print DDD nao cadastrado if doesn't exist corresponding DDD to the typed number.\n",
        "\n",
        "|Input Sample|Output Sample|\n",
        "|-|-|\n",
        "|11|Sao Paulo|"
      ],
      "metadata": {
        "id": "nfRR9uF6_KE2"
      }
    },
    {
      "cell_type": "code",
      "source": [
        "DDD = {\n",
        "    61:'Brasilia',\n",
        "    71:'Salvador',\n",
        "    11:'Sao Paulo',\n",
        "    21:'Rio de Janeiro',\n",
        "    32:'Juiz de Fora',\n",
        "    19:'Campinas',\n",
        "    27:'Vitoria',\n",
        "    31:'Belo Horizonte'\n",
        "}\n",
        "ddd_input = int(input())\n",
        "if ddd_input in DDD:\n",
        "  print(DDD[ddd_input])\n",
        "else:\n",
        "  print('DDD nao cadastrado')"
      ],
      "metadata": {
        "colab": {
          "base_uri": "https://localhost:8080/"
        },
        "id": "P-wV5RgiAYwO",
        "outputId": "ab5c3c19-a96b-4484-ff8b-bfd035662af3"
      },
      "execution_count": 12,
      "outputs": [
        {
          "output_type": "stream",
          "name": "stdout",
          "text": [
            "28\n",
            "DDD nao cadastrado\n"
          ]
        }
      ]
    },
    {
      "cell_type": "markdown",
      "source": [
        "###BEE 1051 - Taxes"
      ],
      "metadata": {
        "id": "6caWviytByo3"
      }
    },
    {
      "cell_type": "markdown",
      "source": [
        "In an imaginary country called Lisarb, all the people are very happy to pay their taxes because they know that doesn’t exist corrupt politicians and the taxes are used to benefit the population, without any misappropriation. The currency of this country is Rombus, whose symbol is R$.\n",
        "\n",
        "Read a value with 2 digits after the decimal point, equivalent to the salary of a Lisarb inhabitant. Then print the due value that this person must pay of taxes, according to the table below.\n",
        "\n",
        "<img src=https://resources.beecrowd.com/gallery/images/problems/UOJ_1051_en.png>\n",
        "\n",
        "Remember, if the salary is R$ 3,002.00 for example, the rate of 8% is only over R$ 1,000.00, because the salary from R$ 0.00 to R$ 2,000.00 is tax free. In the follow example, the total rate is 8% over R$ 1000.00 + 18% over R$ 2.00, resulting in R$ 80.36 at all. The answer must be printed with 2 digits after the decimal point.\n",
        "\n",
        "**Input**\n",
        "The input contains only a float-point number, with 2 digits after the decimal point.\n",
        "\n",
        "**Output**\n",
        "Print the message \"R$\" followed by a blank space and the total tax to be payed, with two digits after the decimal point. If the value is up to 2000, print the message \"Isento\".\n",
        "\n",
        "|Input Sample|Output Sample|\n",
        "|-|-|\n",
        "|3002.00|R\\$ 80.36|\n",
        "|1701.12|Isento|\n",
        "|4520.00|R\\$ 355.60|\n"
      ],
      "metadata": {
        "id": "WNiufXDaHrLd"
      }
    },
    {
      "cell_type": "code",
      "source": [],
      "metadata": {
        "id": "mGHdW-juICkU"
      },
      "execution_count": null,
      "outputs": []
    }
  ]
}